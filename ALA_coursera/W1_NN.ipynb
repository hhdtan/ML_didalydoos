{
 "cells": [
  {
   "cell_type": "code",
   "execution_count": 1,
   "id": "a1b99420-d7dc-4be6-9dd6-34728ebba64b",
   "metadata": {},
   "outputs": [],
   "source": [
    "import numpy as np"
   ]
  },
  {
   "cell_type": "code",
   "execution_count": 2,
   "id": "ad95b707-ca74-4631-9794-9f7738a0e4ee",
   "metadata": {},
   "outputs": [],
   "source": [
    "''' \n",
    "note: by convention, capital W is to denote a matrix\n",
    "x is your input vector, which will be N (# data) x M (# features)\n",
    "W is the Weights vector, which will be M (# features) x U (# neurons)\n",
    "b is the bias vector\n",
    "'''\n",
    "\n",
    "def dense(x, W, b):\n",
    "    # neurons = W[1] \n",
    "    # note x@W is the same as np.dot(x,W) \n",
    "    # print(f\"x is {x}\\n W is {W}\\nbias is {b}\\n\\n\")\n",
    "    z = x@W + b\n",
    "    # print(f\"dense z is {z}\\n\\n\")\n",
    "    return sigmoid(z) \n",
    "\n",
    "def sigmoid(z):\n",
    "    z = np.negative(z)\n",
    "    return 1 / (1 + np.exp(z))\n",
    "\n",
    "def seq(x, W1, b1, W2, b2):\n",
    "    a1 = dense(x, W1, b1)\n",
    "    # print(f\"a1 is {a1}\\n\\n\")\n",
    "    a2 = dense(a1, W2, b2)\n",
    "    # print(f\"a2 is {a2}\\n\\n\")\n",
    "    return a2"
   ]
  },
  {
   "cell_type": "code",
   "execution_count": 3,
   "id": "65315f81-cfea-4efa-bb91-90b6653844be",
   "metadata": {},
   "outputs": [],
   "source": [
    "# pretrained params. I will figure out how to train the model in the future. \n",
    "\n",
    "W1 = np.array( [[-8.93,  0.29, 12.9 ], \n",
    "                [-0.1,  -7.32, 10.81]] )\n",
    "\n",
    "b1 = np.array( [[-9.82, -9.28,  0.96]]) \n",
    "\n",
    "W2 = np.array( [[-31.18], \n",
    "                [-27.59], \n",
    "                [-32.56]] )\n",
    "\n",
    "b2 = np.array( [15.41] )\n",
    "\n",
    "# \n",
    "x = np.array([ [-0.47,  0.42],\n",
    "       [-0.47,  3.16]])"
   ]
  },
  {
   "cell_type": "code",
   "execution_count": 4,
   "id": "bf5948ff-6ac6-4724-992d-f20ff2dcb7b5",
   "metadata": {},
   "outputs": [
    {
     "data": {
      "text/plain": [
       "array([[ True],\n",
       "       [False]])"
      ]
     },
     "execution_count": 4,
     "metadata": {},
     "output_type": "execute_result"
    }
   ],
   "source": [
    "y = seq(x, W1, b1, W2, b2) \n",
    "y > 0.5"
   ]
  }
 ],
 "metadata": {
  "kernelspec": {
   "display_name": "Python [conda env:root] *",
   "language": "python",
   "name": "conda-root-py"
  },
  "language_info": {
   "codemirror_mode": {
    "name": "ipython",
    "version": 3
   },
   "file_extension": ".py",
   "mimetype": "text/x-python",
   "name": "python",
   "nbconvert_exporter": "python",
   "pygments_lexer": "ipython3",
   "version": "3.9.12"
  }
 },
 "nbformat": 4,
 "nbformat_minor": 5
}
