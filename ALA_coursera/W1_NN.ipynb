{
 "cells": [
  {
   "cell_type": "code",
   "execution_count": 1,
   "id": "a1b99420-d7dc-4be6-9dd6-34728ebba64b",
   "metadata": {},
   "outputs": [],
   "source": [
    "import numpy as np"
   ]
  },
  {
   "cell_type": "code",
   "execution_count": 45,
   "id": "4b48879f-89f1-465f-a1ca-d43b12c55a3e",
   "metadata": {},
   "outputs": [],
   "source": [
    "a = np.array([[1,2,3], [4, 5,6]])\n",
    "b = np.array([[3,2,1], [6,5,4]])"
   ]
  },
  {
   "cell_type": "code",
   "execution_count": 48,
   "id": "5c6a8aef-c6c2-4907-96ad-2ae580304142",
   "metadata": {},
   "outputs": [
    {
     "ename": "ValueError",
     "evalue": "shapes (2,3) and (2,3) not aligned: 3 (dim 1) != 2 (dim 0)",
     "output_type": "error",
     "traceback": [
      "\u001b[1;31m---------------------------------------------------------------------------\u001b[0m",
      "\u001b[1;31mValueError\u001b[0m                                Traceback (most recent call last)",
      "Input \u001b[1;32mIn [48]\u001b[0m, in \u001b[0;36m<cell line: 1>\u001b[1;34m()\u001b[0m\n\u001b[1;32m----> 1\u001b[0m \u001b[43mnp\u001b[49m\u001b[38;5;241;43m.\u001b[39;49m\u001b[43mdot\u001b[49m\u001b[43m(\u001b[49m\u001b[43ma\u001b[49m\u001b[43m,\u001b[49m\u001b[43mb\u001b[49m\u001b[43m)\u001b[49m\n",
      "File \u001b[1;32m<__array_function__ internals>:180\u001b[0m, in \u001b[0;36mdot\u001b[1;34m(*args, **kwargs)\u001b[0m\n",
      "\u001b[1;31mValueError\u001b[0m: shapes (2,3) and (2,3) not aligned: 3 (dim 1) != 2 (dim 0)"
     ]
    }
   ],
   "source": [
    "np.dot(a,b)"
   ]
  },
  {
   "cell_type": "code",
   "execution_count": 38,
   "id": "ad95b707-ca74-4631-9794-9f7738a0e4ee",
   "metadata": {},
   "outputs": [],
   "source": [
    "''' \n",
    "note: by convention, capital W is to denote a matrix\n",
    "x is your input vector, which will be N (# data) x M (# features)\n",
    "W is the Weights vector, which will be M (# features) x U (# neurons)\n",
    "b is the bias vector\n",
    "'''\n",
    "\n",
    "def dense(x, W, b):\n",
    "    # neurons = W[1] \n",
    "    # note x@W is the same as np.dot(x,W) \n",
    "    # print(f\"x is {x}\\n W is {W}\\nbias is {b}\\n\\n\")\n",
    "    z = x@W + b\n",
    "    # print(f\"dense z is {z}\\n\\n\")\n",
    "    return sigmoid(z) \n",
    "\n",
    "def sigmoid(z):\n",
    "    z = np.negative(z)\n",
    "    return 1 / (1 + np.exp(z))\n",
    "\n",
    "def seq(x, W1, b1, W2, b2):\n",
    "    a1 = dense(x, W1, b1)\n",
    "    # print(f\"a1 is {a1}\\n\\n\")\n",
    "    a2 = dense(a1, W2, b2)\n",
    "    # print(f\"a2 is {a2}\\n\\n\")\n",
    "    return a2"
   ]
  },
  {
   "cell_type": "code",
   "execution_count": 36,
   "id": "65315f81-cfea-4efa-bb91-90b6653844be",
   "metadata": {},
   "outputs": [],
   "source": [
    "# pretrained params. I will figure out how to train the model in the future. \n",
    "\n",
    "W1 = np.array( [[-8.93,  0.29, 12.9 ], \n",
    "                [-0.1,  -7.32, 10.81]] )\n",
    "\n",
    "B1 = np.array( [[-9.82, -9.28,  0.96]]) \n",
    "\n",
    "W2 = np.array( [[-31.18], \n",
    "                [-27.59], \n",
    "                [-32.56]] )\n",
    "\n",
    "B2 = np.array( [15.41] )\n",
    "\n",
    "# \n",
    "x = np.array([ [-0.47,  0.42],\n",
    "       [-0.47,  3.16]])"
   ]
  },
  {
   "cell_type": "code",
   "execution_count": 42,
   "id": "bf5948ff-6ac6-4724-992d-f20ff2dcb7b5",
   "metadata": {},
   "outputs": [
    {
     "data": {
      "text/plain": [
       "array([[ True],\n",
       "       [False]])"
      ]
     },
     "execution_count": 42,
     "metadata": {},
     "output_type": "execute_result"
    }
   ],
   "source": [
    "y = seq(x, W1, b1, W2, b2) \n",
    "y > 0.5"
   ]
  }
 ],
 "metadata": {
  "kernelspec": {
   "display_name": "Python [conda env:root] *",
   "language": "python",
   "name": "conda-root-py"
  },
  "language_info": {
   "codemirror_mode": {
    "name": "ipython",
    "version": 3
   },
   "file_extension": ".py",
   "mimetype": "text/x-python",
   "name": "python",
   "nbconvert_exporter": "python",
   "pygments_lexer": "ipython3",
   "version": "3.9.12"
  }
 },
 "nbformat": 4,
 "nbformat_minor": 5
}
