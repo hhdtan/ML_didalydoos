{
 "cells": [
  {
   "cell_type": "code",
   "execution_count": 1,
   "id": "c2ff2623-2d11-41d8-a6f7-ca6943e5994e",
   "metadata": {},
   "outputs": [],
   "source": [
    "import tensorflow as tf\n",
    "from tensorflow.keras import Sequential\n",
    "from tensorflow.keras.layers import Dense, Input\n",
    "\n",
    "from tensorflow.keras.losses import SparseCategoricalCrossentropy"
   ]
  },
  {
   "cell_type": "code",
   "execution_count": 2,
   "id": "0c39ab9a-d87c-412e-a89d-8f46056bb3dc",
   "metadata": {},
   "outputs": [],
   "source": [
    "import numpy as np\n",
    "import pandas as pd\n",
    "from sklearn.datasets import load_digits\n",
    "from sklearn.model_selection import train_test_split\n",
    "\n",
    "digits = load_digits()\n",
    "df = pd.DataFrame(np.column_stack([digits['data'], digits['target']]), columns=digits['feature_names'] + ['target'])\n",
    "X_train, X_test, Y_train, Y_test = train_test_split(\n",
    "    df.iloc[:, df.columns != 'target'], df.iloc[:, df.columns == 'target'], test_size=0.3, shuffle=False\n",
    ")"
   ]
  },
  {
   "cell_type": "code",
   "execution_count": 3,
   "id": "f89c7ed0-b85c-472f-a926-2f794a5c62f5",
   "metadata": {},
   "outputs": [
    {
     "data": {
      "text/plain": [
       "(1797, 64)"
      ]
     },
     "execution_count": 3,
     "metadata": {},
     "output_type": "execute_result"
    }
   ],
   "source": [
    "digits.data.shape"
   ]
  },
  {
   "cell_type": "code",
   "execution_count": 4,
   "id": "2da345c9-c0d2-456a-a8ab-3814d30f0f63",
   "metadata": {},
   "outputs": [],
   "source": [
    "model = Sequential([\n",
    "    Input(digits.data.shape[1]),\n",
    "    Dense( units = 25, activation = 'relu'),\n",
    "    Dense( units = 25, activation = 'relu'),\n",
    "    Dense( units = 10, activation = 'linear'),\n",
    "])"
   ]
  },
  {
   "cell_type": "code",
   "execution_count": 5,
   "id": "a1e737be-ac59-4250-a0ea-751ca0851279",
   "metadata": {},
   "outputs": [
    {
     "name": "stdout",
     "output_type": "stream",
     "text": [
      "Model: \"sequential\"\n",
      "_________________________________________________________________\n",
      " Layer (type)                Output Shape              Param #   \n",
      "=================================================================\n",
      " dense (Dense)               (None, 25)                1625      \n",
      "                                                                 \n",
      " dense_1 (Dense)             (None, 25)                650       \n",
      "                                                                 \n",
      " dense_2 (Dense)             (None, 10)                260       \n",
      "                                                                 \n",
      "=================================================================\n",
      "Total params: 2535 (9.90 KB)\n",
      "Trainable params: 2535 (9.90 KB)\n",
      "Non-trainable params: 0 (0.00 Byte)\n",
      "_________________________________________________________________\n"
     ]
    }
   ],
   "source": [
    "model.build()\n",
    "model.summary()"
   ]
  },
  {
   "cell_type": "code",
   "execution_count": 6,
   "id": "9924ab37-8530-4cbe-b59e-a3a855415489",
   "metadata": {},
   "outputs": [],
   "source": [
    "model.compile(loss = SparseCategoricalCrossentropy(from_logits = True)) "
   ]
  },
  {
   "cell_type": "code",
   "execution_count": 7,
   "id": "daa84564-7360-40a2-b069-7b9c41ce4a19",
   "metadata": {
    "tags": []
   },
   "outputs": [
    {
     "data": {
      "text/plain": [
       "<keras.src.callbacks.History at 0x235d2f6d3d0>"
      ]
     },
     "execution_count": 7,
     "metadata": {},
     "output_type": "execute_result"
    }
   ],
   "source": [
    "model.fit(X_train,Y_train, epochs = 50, verbose = 0)"
   ]
  },
  {
   "cell_type": "code",
   "execution_count": 8,
   "id": "3d3aa905-ab90-434e-90fb-5f10b1344e83",
   "metadata": {},
   "outputs": [
    {
     "name": "stdout",
     "output_type": "stream",
     "text": [
      "17/17 [==============================] - 0s 669us/step\n"
     ]
    }
   ],
   "source": [
    "pred = model.predict(X_test)"
   ]
  },
  {
   "cell_type": "code",
   "execution_count": 9,
   "id": "3c65ec9f-7cfe-4cf4-bf09-b4644d09ac47",
   "metadata": {},
   "outputs": [
    {
     "data": {
      "text/plain": [
       "True     505\n",
       "False     35\n",
       "Name: truth, dtype: int64"
      ]
     },
     "execution_count": 9,
     "metadata": {},
     "output_type": "execute_result"
    }
   ],
   "source": [
    "p_df = pd.DataFrame(np.vstack((Y_test['target'].values, np.argmax(pred, axis = 1))).T , columns = ['Y_true', 'Y_hat'])\n",
    "\n",
    "p_df['truth'] =  (p_df.iloc[:,0] ==  p_df.iloc[:,1])\n",
    "p_df['truth'].value_counts()"
   ]
  },
  {
   "cell_type": "code",
   "execution_count": 10,
   "id": "34e7eb48-7ebd-4cbd-b3ab-8319bb8811ad",
   "metadata": {},
   "outputs": [
    {
     "name": "stdout",
     "output_type": "stream",
     "text": [
      "              precision    recall  f1-score   support\n",
      "\n",
      "         0.0       0.93      0.96      0.94        53\n",
      "         1.0       0.94      0.94      0.94        53\n",
      "         2.0       0.96      0.94      0.95        53\n",
      "         3.0       0.95      0.79      0.87        53\n",
      "         4.0       0.98      0.95      0.96        57\n",
      "         5.0       0.96      0.98      0.97        56\n",
      "         6.0       0.95      0.98      0.96        54\n",
      "         7.0       0.98      0.93      0.95        54\n",
      "         8.0       0.77      0.92      0.84        52\n",
      "         9.0       0.95      0.95      0.95        55\n",
      "\n",
      "    accuracy                           0.94       540\n",
      "   macro avg       0.94      0.93      0.93       540\n",
      "weighted avg       0.94      0.94      0.94       540\n",
      "\n",
      "\n"
     ]
    }
   ],
   "source": [
    "from sklearn import datasets, metrics, svm\n",
    "\n",
    "print(\n",
    "    f\"{metrics.classification_report(Y_test, np.argmax(pred, axis = 1))}\\n\"\n",
    ")"
   ]
  }
 ],
 "metadata": {
  "kernelspec": {
   "display_name": "Python 3 (ipykernel)",
   "language": "python",
   "name": "python3"
  },
  "language_info": {
   "codemirror_mode": {
    "name": "ipython",
    "version": 3
   },
   "file_extension": ".py",
   "mimetype": "text/x-python",
   "name": "python",
   "nbconvert_exporter": "python",
   "pygments_lexer": "ipython3",
   "version": "3.9.12"
  }
 },
 "nbformat": 4,
 "nbformat_minor": 5
}
